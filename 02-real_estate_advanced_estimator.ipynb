{
 "cells": [
  {
   "cell_type": "markdown",
   "metadata": {},
   "source": [
    "# 🚀 Real Estate - advanced estimator"
   ]
  },
  {
   "cell_type": "markdown",
   "metadata": {},
   "source": [
    "❗️ In the previous challenge, we saw that if we have more flats than features  in our dataset ($\\large n$ observations $\\large> p$ features), that's why we can't \"solve\" the equation $\\large X\\theta = Y$. And without a deterministic formula for $\\large \\theta$, we would no longer be able to predict the prices of new flats anymore...!\n",
    "\n",
    "----\n",
    "\n",
    "🎯 In this exercise, we have now access to a bigger dataset consisting of 1000 flats and we want to refine our prediction for the same new flat as before:\n",
    "\n",
    "- `Surface`: 3000 $ft^2$\n",
    "- `Bedrooms`: 5 \n",
    "- `Floors`: 1\n",
    "\n",
    "❌ Instead of solving $\\large X\\theta = Y$ with a matrix $\\large X$ of shape $ (1000,4)$ that is **`non-invertible`**...\n",
    "\n",
    "🚀 ...We will find $\\large {\\theta} = \\begin{bmatrix}\n",
    "     \\theta_0 \\\\\n",
    "     \\theta_1 \\\\\n",
    "    \\theta_2 \\\\\n",
    "     \\theta_3\n",
    "\\end{bmatrix}_{4 \\times 1}$ that minimizes the error $ \\large e = X\\hat{\\theta} - Y $: this approach is called a **`Linear Regression model`**. We will measure this error $e$ using the Euclidian distance $\\large \\left\\|e\\right\\|$ and the **`Mean Squared Error.`**\n",
    "\n",
    "👉 Let's compute $\\large \\hat{\\theta}$ to find an approximate estimation of the new flat's price.\n"
   ]
  },
  {
   "cell_type": "code",
   "execution_count": 1,
   "metadata": {},
   "outputs": [],
   "source": [
    "# Import some \"default\" libraries\n",
    "# You can now use Pandas to manipulate the Dataframe conveniently\n",
    "\n",
    "''' Data manipulation'''\n",
    "import numpy as np\n",
    "import pandas as pd\n",
    "\n",
    "''' Data visualization'''\n",
    "import matplotlib.pyplot as plt\n",
    "import seaborn as sns"
   ]
  },
  {
   "cell_type": "markdown",
   "metadata": {},
   "source": [
    "## (1) Data Exploration"
   ]
  },
  {
   "cell_type": "markdown",
   "metadata": {},
   "source": [
    "We load the dataset **flats.csv** below"
   ]
  },
  {
   "cell_type": "code",
   "execution_count": 2,
   "metadata": {},
   "outputs": [
    {
     "data": {
      "text/html": [
       "<div>\n",
       "<style scoped>\n",
       "    .dataframe tbody tr th:only-of-type {\n",
       "        vertical-align: middle;\n",
       "    }\n",
       "\n",
       "    .dataframe tbody tr th {\n",
       "        vertical-align: top;\n",
       "    }\n",
       "\n",
       "    .dataframe thead th {\n",
       "        text-align: right;\n",
       "    }\n",
       "</style>\n",
       "<table border=\"1\" class=\"dataframe\">\n",
       "  <thead>\n",
       "    <tr style=\"text-align: right;\">\n",
       "      <th></th>\n",
       "      <th>price</th>\n",
       "      <th>bedrooms</th>\n",
       "      <th>surface</th>\n",
       "      <th>floors</th>\n",
       "    </tr>\n",
       "  </thead>\n",
       "  <tbody>\n",
       "    <tr>\n",
       "      <th>0</th>\n",
       "      <td>274.0</td>\n",
       "      <td>3</td>\n",
       "      <td>1830</td>\n",
       "      <td>2.0</td>\n",
       "    </tr>\n",
       "    <tr>\n",
       "      <th>1</th>\n",
       "      <td>500.0</td>\n",
       "      <td>4</td>\n",
       "      <td>2120</td>\n",
       "      <td>1.0</td>\n",
       "    </tr>\n",
       "    <tr>\n",
       "      <th>2</th>\n",
       "      <td>320.0</td>\n",
       "      <td>3</td>\n",
       "      <td>1260</td>\n",
       "      <td>1.0</td>\n",
       "    </tr>\n",
       "    <tr>\n",
       "      <th>3</th>\n",
       "      <td>445.5</td>\n",
       "      <td>3</td>\n",
       "      <td>1880</td>\n",
       "      <td>1.0</td>\n",
       "    </tr>\n",
       "    <tr>\n",
       "      <th>4</th>\n",
       "      <td>637.5</td>\n",
       "      <td>3</td>\n",
       "      <td>1680</td>\n",
       "      <td>1.0</td>\n",
       "    </tr>\n",
       "    <tr>\n",
       "      <th>5</th>\n",
       "      <td>460.0</td>\n",
       "      <td>2</td>\n",
       "      <td>2730</td>\n",
       "      <td>1.0</td>\n",
       "    </tr>\n",
       "    <tr>\n",
       "      <th>6</th>\n",
       "      <td>259.0</td>\n",
       "      <td>3</td>\n",
       "      <td>1270</td>\n",
       "      <td>1.5</td>\n",
       "    </tr>\n",
       "    <tr>\n",
       "      <th>7</th>\n",
       "      <td>950.0</td>\n",
       "      <td>3</td>\n",
       "      <td>2780</td>\n",
       "      <td>1.0</td>\n",
       "    </tr>\n",
       "    <tr>\n",
       "      <th>8</th>\n",
       "      <td>550.0</td>\n",
       "      <td>3</td>\n",
       "      <td>1930</td>\n",
       "      <td>2.0</td>\n",
       "    </tr>\n",
       "    <tr>\n",
       "      <th>9</th>\n",
       "      <td>265.5</td>\n",
       "      <td>3</td>\n",
       "      <td>1860</td>\n",
       "      <td>1.0</td>\n",
       "    </tr>\n",
       "  </tbody>\n",
       "</table>\n",
       "</div>"
      ],
      "text/plain": [
       "   price  bedrooms  surface  floors\n",
       "0  274.0         3     1830     2.0\n",
       "1  500.0         4     2120     1.0\n",
       "2  320.0         3     1260     1.0\n",
       "3  445.5         3     1880     1.0\n",
       "4  637.5         3     1680     1.0\n",
       "5  460.0         2     2730     1.0\n",
       "6  259.0         3     1270     1.5\n",
       "7  950.0         3     2780     1.0\n",
       "8  550.0         3     1930     2.0\n",
       "9  265.5         3     1860     1.0"
      ]
     },
     "execution_count": 2,
     "metadata": {},
     "output_type": "execute_result"
    }
   ],
   "source": [
    "flats = pd.read_csv('https://wagon-public-datasets.s3.amazonaws.com/Machine%20Learning%20Datasets/flats.csv')\n",
    "flats.head(10)"
   ]
  },
  {
   "cell_type": "markdown",
   "metadata": {},
   "source": [
    "👀 Use `scatterplots` to  figure out visually <u><i>which feature gives the most information about prices:</i></u>"
   ]
  },
  {
   "cell_type": "code",
   "execution_count": 14,
   "metadata": {
    "tags": [
     "challengify"
    ]
   },
   "outputs": [
    {
     "data": {
      "image/png": "[encoded data removed]",
      "text/plain": [
       "<Figure size 720x720 with 20 Axes>"
      ]
     },
     "metadata": {
      "needs_background": "light"
     },
     "output_type": "display_data"
    }
   ],
   "source": [
    "sns.pairplot(flats);\n"
   ]
  },
  {
   "cell_type": "markdown",
   "metadata": {},
   "source": [
    "👉 It seems that `surface` is a stronger indicator of price than the number of bedrooms or floors. In statistics, we say that `price` is more **correlated** with `surface` than with other features. \n",
    "\n",
    "👉 Let's double-check this by running [`pandas.DataFrame.corr`](https://pandas.pydata.org/pandas-docs/stable/reference/api/pandas.DataFrame.corr.html) below, which computes correlation coefficients between each pair of columns of the DataFrame. \n",
    "\n",
    "<i> <u>Remarkable values:</u></i>\n",
    "* 1 means that the two columns  are perfectly  correlated 📈 \n",
    "* -1 means that the two columns perfectly inversely correlated 📉 \n",
    "* 0 means that the two columns not *linearly* correlated 😐\n",
    "    \n",
    "<details>\n",
    "    <summary><i>Why do we use the correlation coefficient and not the covariance coefficient ?</i></summary>\n",
    "    \n",
    "✅ <u>Similitudes</u>:\n",
    "    \n",
    "* 📈 Positive correlations and positive covariances between two variables X and Y mean the same thing: When X increases, Y increases and vice-versa. When X decreases, Y decreases and vice-versa.\n",
    "    \n",
    "* 📉 Negative correlations and negative covariances between two variables X and Y mean the same thing: When X increases, Y decreases and vice-versa. When X decreases, Y increases and vice-versa\n",
    "    \n",
    "* 🤔 A null correlation and a null covariance between two variables X and Y mean the same thing: \n",
    "    * They are _not linearly correlated_ in a sense that there would exists two real numbers $a$ and $b$  such that $ Y = aX + b$ \n",
    "    * However, they can still have another type of relation such as $Y = X^{2}$ (quadratic relation), $Y = e^{X}$ (exponential relation), $Y = ln(X)$ (logarithmic relation), $Y = sin(\\sqrt{1+X^7})$ (super weird relation), ...\n",
    "    \n",
    "❗️ <u>Main difference</u>:\n",
    "    \n",
    "* 😖 The covariance between two variables X and Y can be infinitely big positively or negatively : $ cov(X,Y) \\in ( - \\infty ; + \\infty ) $\n",
    "    \n",
    "    * _Example_: if $ cov (X,Y) = 10 $ and $ cov (X,Z) = 30 $, can you say that X and Z are \"more correlated\" ? ❌_Hell No !_ \n",
    "    * You cannot compare apples, oranges and bananas. \n",
    "\n",
    "* 🧑🏻‍🏫 How to solve this problem ?\n",
    "    * Consider the correlation instead, often denoted by the Greek Letter $\\rho$ (pronounce `\"rhô\"`)\n",
    "    \n",
    "👉<u>Consequence</u>:\n",
    "  \n",
    "* You can view the correlation as a _standardized covariance_, we simply divide the covariance by both the standard deviation of $X$ and the standard deviation of $Y$    \n",
    "$$ \\large  \\rho(X,Y) = \\frac{cov(X,Y)}{\\sigma_X \\sigma_Y} \\in [0;1]$$\n",
    "    \n",
    "    *  _Let's continue our example_: suppose now that $ \\rho(X,Y) = 0.80 $ and $ \\rho(X,Z) = 0.15 $, would you still want to say that X and Z are more correlated ? No. Actually, X and Y are more correlated than X and Z !\n",
    "</details>"
   ]
  },
  {
   "cell_type": "code",
   "execution_count": 69,
   "metadata": {
    "tags": [
     "challengify"
    ]
   },
   "outputs": [
    {
     "data": {
      "text/html": [
       "<div>\n",
       "<style scoped>\n",
       "    .dataframe tbody tr th:only-of-type {\n",
       "        vertical-align: middle;\n",
       "    }\n",
       "\n",
       "    .dataframe tbody tr th {\n",
       "        vertical-align: top;\n",
       "    }\n",
       "\n",
       "    .dataframe thead th {\n",
       "        text-align: right;\n",
       "    }\n",
       "</style>\n",
       "<table border=\"1\" class=\"dataframe\">\n",
       "  <thead>\n",
       "    <tr style=\"text-align: right;\">\n",
       "      <th></th>\n",
       "      <th>price</th>\n",
       "      <th>bedrooms</th>\n",
       "      <th>surface</th>\n",
       "      <th>floors</th>\n",
       "    </tr>\n",
       "  </thead>\n",
       "  <tbody>\n",
       "    <tr>\n",
       "      <th>price</th>\n",
       "      <td>1.000000</td>\n",
       "      <td>0.239623</td>\n",
       "      <td>0.732790</td>\n",
       "      <td>0.258263</td>\n",
       "    </tr>\n",
       "    <tr>\n",
       "      <th>bedrooms</th>\n",
       "      <td>0.239623</td>\n",
       "      <td>1.000000</td>\n",
       "      <td>0.417170</td>\n",
       "      <td>0.131993</td>\n",
       "    </tr>\n",
       "    <tr>\n",
       "      <th>surface</th>\n",
       "      <td>0.732790</td>\n",
       "      <td>0.417170</td>\n",
       "      <td>1.000000</td>\n",
       "      <td>0.357512</td>\n",
       "    </tr>\n",
       "    <tr>\n",
       "      <th>floors</th>\n",
       "      <td>0.258263</td>\n",
       "      <td>0.131993</td>\n",
       "      <td>0.357512</td>\n",
       "      <td>1.000000</td>\n",
       "    </tr>\n",
       "  </tbody>\n",
       "</table>\n",
       "</div>"
      ],
      "text/plain": [
       "             price  bedrooms   surface    floors\n",
       "price     1.000000  0.239623  0.732790  0.258263\n",
       "bedrooms  0.239623  1.000000  0.417170  0.131993\n",
       "surface   0.732790  0.417170  1.000000  0.357512\n",
       "floors    0.258263  0.131993  0.357512  1.000000"
      ]
     },
     "execution_count": 69,
     "metadata": {},
     "output_type": "execute_result"
    }
   ],
   "source": [
    "pd.DataFrame.corr(flats)"
   ]
  },
  {
   "cell_type": "markdown",
   "metadata": {},
   "source": [
    "🎨 For a quicker glimpse of this matrix, you can use a **heatmap** from [`seaborn.heatmap`](https://seaborn.pydata.org/generated/seaborn.heatmap.html)\n",
    "\n",
    "<details>\n",
    "    <summary><i>Additional tips to display a nicer correlation matrix</i></summary>\n",
    "\n",
    "* **`cmap`**: *Seaborn* being a visualisation library built on top of *Matpotlib*, you can use the argument [*cmap*](https://matplotlib.org/stable/tutorials/colors/colormaps.html) which stands for _color map_ to use \n",
    "\n",
    "* **`annot`** : To read the correlations even faster, you can show the correlation coefficients directly on the colored heatmap\n",
    "   \n",
    "* **`annot_kws`** : You can customize how the correlation coefficients appear\n",
    "</details>"
   ]
  },
  {
   "cell_type": "code",
   "execution_count": 70,
   "metadata": {
    "tags": [
     "challengify"
    ]
   },
   "outputs": [
    {
     "data": {
      "text/plain": [
       "<AxesSubplot:>"
      ]
     },
     "execution_count": 70,
     "metadata": {},
     "output_type": "execute_result"
    },
    {
     "data": {
      "image/png": "[encoded data removed]",
      "text/plain": [
       "<Figure size 432x288 with 2 Axes>"
      ]
     },
     "metadata": {
      "needs_background": "light"
     },
     "output_type": "display_data"
    }
   ],
   "source": [
    "sns.heatmap(pd.DataFrame.corr(flats))\n",
    "#['price'], flats['surface']);"
   ]
  },
  {
   "cell_type": "markdown",
   "metadata": {},
   "source": [
    "**🧪 Test your code!**"
   ]
  },
  {
   "cell_type": "code",
   "execution_count": 33,
   "metadata": {
    "scrolled": false
   },
   "outputs": [
    {
     "name": "stdout",
     "output_type": "stream",
     "text": [
      "\u001b[1m============================= test session starts ==============================\u001b[0m\n",
      "platform darwin -- Python 3.8.12, pytest-6.2.5, py-1.11.0, pluggy-1.0.0 -- /Users/guilhermecavalcantidesabarreto/.pyenv/versions/lewagon/bin/python3\n",
      "cachedir: .pytest_cache\n",
      "rootdir: /Users/guilhermecavalcantidesabarreto/code/guipyc/data-real-estate-advanced-estimator\n",
      "plugins: anyio-3.4.0\n",
      "\u001b[1mcollecting ... \u001b[0mcollected 2 items\n",
      "\n",
      "tests/test_flats.py::TestFlats::test_columns \u001b[32mPASSED\u001b[0m\u001b[32m                      [ 50%]\u001b[0m\n",
      "tests/test_flats.py::TestFlats::test_shape \u001b[32mPASSED\u001b[0m\u001b[32m                        [100%]\u001b[0m\n",
      "\n",
      "\u001b[32m============================== \u001b[32m\u001b[1m2 passed\u001b[0m\u001b[32m in 0.42s\u001b[0m\u001b[32m ===============================\u001b[0m\n",
      "\n",
      "\n",
      "💯 You can commit your code:\n",
      "\n",
      "\u001b[1;32mgit\u001b[39m add tests/flats.pickle\n",
      "\n",
      "\u001b[32mgit\u001b[39m commit -m \u001b[33m'Completed flats step'\u001b[39m\n",
      "\n",
      "\u001b[32mgit\u001b[39m push origin master\n"
     ]
    }
   ],
   "source": [
    "from nbresult import ChallengeResult\n",
    "\n",
    "result = ChallengeResult('flats',\n",
    "    shape=flats.shape,\n",
    "    columns=flats.columns\n",
    ")\n",
    "result.write()\n",
    "print(result.check())"
   ]
  },
  {
   "cell_type": "code",
   "execution_count": 36,
   "metadata": {},
   "outputs": [
    {
     "name": "stdout",
     "output_type": "stream",
     "text": [
      "[master 8ccf261] Completed flats step\n",
      " 1 file changed, 0 insertions(+), 0 deletions(-)\n",
      " create mode 100644 tests/flats.pickle\n",
      "Enumerating objects: 14, done.\n",
      "Counting objects: 100% (14/14), done.\n",
      "Delta compression using up to 8 threads\n",
      "Compressing objects: 100% (13/13), done.\n",
      "Writing objects: 100% (14/14), 30.69 KiB | 7.67 MiB/s, done.\n",
      "Total 14 (delta 2), reused 0 (delta 0), pack-reused 0\n",
      "remote: Resolving deltas: 100% (2/2), done.\u001b[K\n",
      "To github.com:guipyc/data-real-estate-advanced-estimator.git\n",
      " * [new branch]      master -> master\n"
     ]
    }
   ],
   "source": [
    "!git add tests/flats.pickle\n",
    "\n",
    "!git commit -m 'Completed flats step'\n",
    "\n",
    "!git push origin master"
   ]
  },
  {
   "cell_type": "markdown",
   "metadata": {},
   "source": [
    "## (2) Estimator with 1 feature"
   ]
  },
  {
   "cell_type": "markdown",
   "metadata": {},
   "source": [
    "Let's try to build a statistical estimator of **price**  as a function of  only one feature, the **surface**.\n",
    "\n",
    "🎯 Let's try to fit a **linear regression** between the two variables.\n",
    "\n",
    "Practically speaking, we want to choose the best parameters $\\hat{\\theta}$ = (`slope`, `intercept`) such that the `predicted price = slope * surface + intercept` is as close as possible to the `price` in terms of Mean Squared Errors.\n",
    "\n",
    "📅 During the next weeks, we will discover and study different models (Linear Regression, KNN, Logistic Regression, Neural Networks, etc.). \n",
    "\n",
    "👉 An important part of your job is to choose the right model and optimizing the parameters to make the best predictions."
   ]
  },
  {
   "cell_type": "markdown",
   "metadata": {},
   "source": [
    "### (2.1) Visual approach"
   ]
  },
  {
   "attachments": {
    "image.png": {
     "image/png": "[encoded data removed]"
    }
   },
   "cell_type": "markdown",
   "metadata": {},
   "source": [
    "❓ Implement the function `plot_line(slope, intercept, ax)` \n",
    "* This function plots a line with the `slope` and `intercept` arguments on the `ax` figure. We added the argument ax, so that you can plot the line(s) on your scatterplot.\n",
    "* When you are done with coding the function, play with different values of `(slope, intercept)` until you find a “good linear approximation” of the data. Can you find the best fit ?\n",
    "\n",
    "![image.png](attachment:image.png)"
   ]
  },
  {
   "cell_type": "code",
   "execution_count": 65,
   "metadata": {},
   "outputs": [],
   "source": [
    "def plot_line(slope, intercept):\n",
    "    \"\"\"Plot a line from slope and intercept on the ax\"\"\"\n",
    "    x = np.arange(1,8000)\n",
    "    y = slope * x + intercept\n",
    "    ax = sns.scatterplot(data = flats, x=\"surface\",y=\"price\")\n",
    "    ax.plot(x,y)\n",
    "    \n",
    "        \n",
    "    \n",
    "\n",
    "#slope * surface + intercept"
   ]
  },
  {
   "cell_type": "code",
   "execution_count": 66,
   "metadata": {},
   "outputs": [
    {
     "data": {
      "image/png": "[encoded data removed]",
      "text/plain": [
       "<Figure size 432x288 with 1 Axes>"
      ]
     },
     "metadata": {
      "needs_background": "light"
     },
     "output_type": "display_data"
    }
   ],
   "source": [
    "# TO DO: play with slopes and intercepts to get the best fit\n",
    "plot_line(1,1)\n",
    "plot_line(0,0)"
   ]
  },
  {
   "cell_type": "markdown",
   "metadata": {},
   "source": [
    "😅 Not so easy (and not very “scientific”), right?"
   ]
  },
  {
   "cell_type": "markdown",
   "metadata": {},
   "source": [
    "### (2.2) Computational approach"
   ]
  },
  {
   "cell_type": "markdown",
   "metadata": {},
   "source": [
    "🔥 To make sure that our estimator line is the best possible one, we need to compute  the **Mean Squared Error** between the **real prices** and the **predicted prices**!\n",
    "\n",
    "👉 Remember that :\n",
    "\n",
    "* For each appartment, `predicted_price = slope * surface + intercept`\n",
    "* Both the **vector of real prices** and the **vector of predicted prices** are of shape $ (1000,1)$"
   ]
  },
  {
   "cell_type": "markdown",
   "metadata": {},
   "source": [
    "#### (2.2.1) Squared Errors"
   ]
  },
  {
   "cell_type": "markdown",
   "metadata": {},
   "source": [
    "<u><b>Step 1</b></u>\n",
    "\n",
    "❓For each row (_i.e. flat_), we should evaluate the `squared_error = (price - predicted_price)**2` ❓"
   ]
  },
  {
   "cell_type": "code",
   "execution_count": null,
   "metadata": {},
   "outputs": [],
   "source": [
    "def squared_errors(slope, intercept, surfaces, prices):\n",
    "    \"\"\"TO DO: return an array containing the squared errors between \n",
    "    all real prices from the dataset and the predicted prices\n",
    "    \"\"\"\n",
    "    pass  # YOUR CODE HERE"
   ]
  },
  {
   "cell_type": "markdown",
   "metadata": {},
   "source": [
    "💡 A general principle in Data Science / Modelling is that $ \\large error = f(y, \\hat{y})$ where:\n",
    "\n",
    "* $ \\large y$ is the real value\n",
    "* $ \\large \\hat{y} $ the predicted valute\n",
    "* $ \\large f$ is often called a **Loss Function** or a **Cost Function** \n",
    "    * 📆 *Cf.* **`Machine Learning I > Model Tuning`**"
   ]
  },
  {
   "cell_type": "markdown",
   "metadata": {},
   "source": [
    "#### (2.2.2) Mean Squared Errors (MSE)"
   ]
  },
  {
   "cell_type": "markdown",
   "metadata": {},
   "source": [
    "<u><b>Step 2</b></u>\n",
    "\n",
    "❓ Create the `mse` function which should return the mean of the array returned by the `squared_errors` function. ❓"
   ]
  },
  {
   "cell_type": "code",
   "execution_count": null,
   "metadata": {},
   "outputs": [],
   "source": [
    "def mse(slope, intercept, surfaces, prices):\n",
    "    '''TO DO: Return the mean of the array contained in squared_errors as a float.'''\n",
    "    pass  # YOUR CODE HERE"
   ]
  },
  {
   "cell_type": "markdown",
   "metadata": {},
   "source": [
    "👉 In section _(2.1) Visual approach_, you visually tried to estimate the \"best line\", which consists in finding the best pair `(slope, intercept)`. \n",
    "\n",
    "❓Using this \"best pair\", compute the MSE of your estimator. ❓"
   ]
  },
  {
   "cell_type": "code",
   "execution_count": null,
   "metadata": {
    "tags": [
     "challengify"
    ]
   },
   "outputs": [],
   "source": [
    "# YOUR CODE HERE"
   ]
  },
  {
   "cell_type": "markdown",
   "metadata": {},
   "source": [
    "### (2.3) Finding the best parameters"
   ]
  },
  {
   "cell_type": "markdown",
   "metadata": {},
   "source": [
    "👉 Keep playing with different values for `slope` and `intercept` and try to get the best fit by hand!  Notice how hard it is to optimize both parameters at the same time.\n",
    "\n",
    "\n",
    "👇 Follow the steps down below to get an idea of one potential approach:"
   ]
  },
  {
   "cell_type": "markdown",
   "metadata": {},
   "source": [
    "#### (2.3.1) Finding the `best slope`"
   ]
  },
  {
   "cell_type": "markdown",
   "metadata": {},
   "source": [
    "<b><i><u> Step 1 :</u></i></b>\n",
    "\n",
    "Start by fixing an  `initial_intercept` with your best estimate, then find a slope which approximately minimizes the function  `mse=f(slope)`"
   ]
  },
  {
   "cell_type": "code",
   "execution_count": null,
   "metadata": {},
   "outputs": [],
   "source": [
    "# Define an initial_intercept, for instance, we may suppose there is always a small transaction fee even for very small flats?\n"
   ]
  },
  {
   "cell_type": "code",
   "execution_count": null,
   "metadata": {},
   "outputs": [],
   "source": [
    "# Create a range of 100 slopes which contains what you believe is the optimal slope (hint: np.linspace())\n"
   ]
  },
  {
   "cell_type": "code",
   "execution_count": null,
   "metadata": {},
   "outputs": [],
   "source": [
    "# Create the list of MSEs for each slope value\n"
   ]
  },
  {
   "cell_type": "markdown",
   "metadata": {},
   "source": [
    "❓ Plot MSEs vs. slopes. Do you see a minimum ❓\n",
    "\n",
    "🙃 If not, try another range of slopes!"
   ]
  },
  {
   "cell_type": "code",
   "execution_count": null,
   "metadata": {
    "tags": [
     "challengify"
    ]
   },
   "outputs": [],
   "source": [
    "# YOUR CODE HERE"
   ]
  },
  {
   "cell_type": "markdown",
   "metadata": {},
   "source": [
    "❓ Compute the minimum value of MSE for your `initial_intercept`, and the corresponding `slope_best` value ❓\n",
    "<br>\n",
    "<details>\n",
    "    <summary><i>Hint</i></summary>\n",
    "    \n",
    "Here you can use Python's built-in `.min()` function, as well as `List.index()` method\n",
    "    \n",
    "</details>"
   ]
  },
  {
   "cell_type": "code",
   "execution_count": null,
   "metadata": {
    "tags": [
     "challengify"
    ]
   },
   "outputs": [],
   "source": [
    "# YOUR CODE HERE"
   ]
  },
  {
   "cell_type": "markdown",
   "metadata": {},
   "source": [
    "#### (2.3.2) Finding the `best intercept`"
   ]
  },
  {
   "cell_type": "markdown",
   "metadata": {},
   "source": [
    "<b><i><u> Step 2 :</u></i></b>\n",
    "\n",
    "🔨 Let's now fix the slope to that `slope_best` value, then re-use the previous approach to find \"the\" `intercept_best`."
   ]
  },
  {
   "cell_type": "code",
   "execution_count": null,
   "metadata": {},
   "outputs": [],
   "source": [
    "# Create a range of 100 intercepts which contains what you believe is the optimal intercept\n"
   ]
  },
  {
   "cell_type": "code",
   "execution_count": null,
   "metadata": {},
   "outputs": [],
   "source": [
    "# Create the list of MSEs for each intercept value\n"
   ]
  },
  {
   "cell_type": "code",
   "execution_count": null,
   "metadata": {},
   "outputs": [],
   "source": [
    "# Plot MSEs against slopes. Do you see a minimum? If not, try another range of slopes!\n"
   ]
  },
  {
   "cell_type": "markdown",
   "metadata": {},
   "source": [
    "❓ Compute `mse_min`, the minimum value of MSEs when slope is equal to `slope_best` best, and store the corresponding best intercept as `intercept_best` ❓\n"
   ]
  },
  {
   "cell_type": "code",
   "execution_count": null,
   "metadata": {},
   "outputs": [],
   "source": [
    "mse_min = None\n",
    "intercept_best = None"
   ]
  },
  {
   "cell_type": "code",
   "execution_count": null,
   "metadata": {
    "tags": [
     "challengify"
    ]
   },
   "outputs": [],
   "source": [
    "# YOUR CODE HERE"
   ]
  },
  {
   "cell_type": "markdown",
   "metadata": {},
   "source": [
    "**🧪 Test your code!**"
   ]
  },
  {
   "cell_type": "code",
   "execution_count": null,
   "metadata": {},
   "outputs": [],
   "source": [
    "from nbresult import ChallengeResult\n",
    "\n",
    "result = ChallengeResult('univariate',\n",
    "    mse_min=mse_min,                \n",
    "    slope_best=slope_best,\n",
    "    intercept_best=intercept_best\n",
    ")\n",
    "result.write()\n",
    "print(result.check())"
   ]
  },
  {
   "cell_type": "markdown",
   "metadata": {},
   "source": [
    "🎉 **Great job**! By adding a non-zero intercept parameter, we have been able to reduce the MSE even more (Feel free to plot the regression line in your scatter plot to  confirm \"visually\" the approximate fit).\n",
    "\n",
    "❓ However, what guarantees that these (`intercept_best`, `slope_best`) parameters are really the best ones? "
   ]
  },
  {
   "cell_type": "markdown",
   "metadata": {},
   "source": [
    "<details>\n",
    "    <summary><i>👀 Explanations</i></summary>\n",
    "    \n",
    "We could maybe find an even better slope value by repeating step ①, this time fixing intercept at `intercept_best`! And then repeat step ② with the new slope to adjust the intercept again...\n",
    "    \n",
    "In order to find the global minimum of a 2-parameter function RMSE = f(slope, intercept), we may have to repeat step ① and ② indefinitely until values converge towards absolute minimums - and with no guarantee of success.\n",
    "    \n",
    "<img src='https://wagon-public-datasets.s3.amazonaws.com/data-science-images/decision-science/real-estate-minimizer.png'>\n",
    "    \n",
    "💪 You've just discovered one of the most fundamental aspects of machine learning: **iterative process for finding mimina**.  \n",
    "\n",
    "👉 As you can guess, in the Data Scientist world, algorithms have been developed to automate and optimize such processes. In the next few weeks, you will discover the power of other algorithms such as **Gradient Descent**, and Python libaries such as `Stastmodels` that perform this iterative process for you. \n",
    "\n",
    "</details>\n",
    "\n"
   ]
  },
  {
   "cell_type": "markdown",
   "metadata": {},
   "source": [
    "👉 Run the cells below if you are curious and want to find the real best slope and intercept for this dataset, computed using **Gradient Descent** (📆 covered in **Machine Learning I > Under The Hood**)."
   ]
  },
  {
   "cell_type": "code",
   "execution_count": null,
   "metadata": {},
   "outputs": [],
   "source": [
    "# Try this out (Seaborn visual solution)\n",
    "sns.regplot(data=flats, x='surface', y='price')"
   ]
  },
  {
   "cell_type": "code",
   "execution_count": null,
   "metadata": {},
   "outputs": [],
   "source": [
    "# Try this out (statsmodels, exact solution)!\n",
    "import statsmodels.formula.api as smf\n",
    "regression = smf.ols(formula= 'price ~ surface', data=flats).fit()\n",
    "\n",
    "print(\"intercept_best\", regression.params['Intercept'])\n",
    "print(\"slope_best\", regression.params['surface'])\n",
    "print('mse_best: ', np.mean(regression.resid**2))"
   ]
  },
  {
   "cell_type": "markdown",
   "metadata": {},
   "source": [
    "❓ Let's go back to our initial question: What is your new prediction for the 5th flat below? How does it compare with your initial prediction based only on 4 flats? \n",
    "\n",
    "- `surface`: 3000 $ft^2$\n",
    "- `bedrooms`: 5 \n",
    "- `floors`: 1"
   ]
  },
  {
   "cell_type": "code",
   "execution_count": null,
   "metadata": {},
   "outputs": [],
   "source": [
    "# compute predicted price (Remember that the real price is 750,000$)\n",
    "pass  # YOUR CODE HERE"
   ]
  },
  {
   "cell_type": "markdown",
   "metadata": {},
   "source": [
    "☝️ It's better than our initial deterministic estimator based on only 4 flats, but obviously we are missing the information provided by the number of bedrooms and floors in this prediction!"
   ]
  },
  {
   "cell_type": "markdown",
   "metadata": {},
   "source": [
    "## (3) Estimator with _all features_ (surface, bedrooms, floors)?"
   ]
  },
  {
   "cell_type": "markdown",
   "metadata": {},
   "source": [
    "💡 A linear regression with three features (**Multivariate Linear Regression**) works the same way as with one feature, but instead of determining only 2 parameters to minimize RMSE (`intercept` and `slope`), we will need to find 4 parameters: $\\hat{\\theta}$ = (`intercept`, `slope_surface`, `slope_bedrooms`, `slope_floors`). \n",
    "\n",
    "----\n",
    "\n",
    "🗓 There will be a lecture fully dedicated to **Multivariate Linear Regression** in the **Decision Science** module.\n",
    "\n",
    "----\n",
    "\n",
    "🗓 The same **Gradient Descent** iterative method is applicable, and you will code it yourself by hand later during the bootcamp.\n",
    "\n",
    "👉 Meanwhile, feel free to run the cell below to see the final result of this multivariate regression:"
   ]
  },
  {
   "cell_type": "code",
   "execution_count": null,
   "metadata": {},
   "outputs": [],
   "source": [
    "# Find the four regression coefficients by running this cell\n",
    "import statsmodels.formula.api as smf\n",
    "regression = smf.ols(formula= 'price ~ surface + bedrooms + floors', data=flats).fit()\n",
    "regression.params"
   ]
  },
  {
   "cell_type": "markdown",
   "metadata": {},
   "source": [
    "🎉 Now that we have found the best parameters $\\theta = \\begin{bmatrix}\n",
    "     \\theta_0 \\\\\n",
    "     \\theta_1 \\\\\n",
    "    \\theta_2 \\\\\n",
    "     \\theta_3 \\\\\n",
    "\\end{bmatrix}_{4 \\times 1} = \n",
    "\\begin{bmatrix}\n",
    "     \\theta_{intercept} \\\\\n",
    "     \\theta_{surface}\\\\\n",
    "    \\theta_{bedrooms} \\\\\n",
    "     \\theta_{floors}\n",
    "\\end{bmatrix}_{4 \\times 1} = \n",
    "\\begin{bmatrix}\n",
    "    18.154854 \\\\\n",
    "    0.286953 \\\\\n",
    "    -21.623564 \\\\\n",
    "    -3.811868\n",
    "\\end{bmatrix}_{4 \\times 1}\n",
    "$, \n",
    "\n",
    "we can predict the price of the new flat with:\n",
    "* $3000 ft^2$\n",
    "* $5$ bedrooms\n",
    "* located on the $1st$ floor\n",
    "\n",
    "$$ \\hat{y_5} = \\theta_0 + \\theta_1 \\times 3000 + \\theta_2 \\times 5 + \\theta_3 \\times 1 $$"
   ]
  },
  {
   "cell_type": "code",
   "execution_count": null,
   "metadata": {},
   "outputs": [],
   "source": [
    "# Compute the newly predicted price for the 5th flat? Is this prediction better?\n",
    "pass  # YOUR CODE HERE"
   ]
  },
  {
   "cell_type": "markdown",
   "metadata": {},
   "source": [
    "## (4) Concluding remarks on Linear Algebra 🧠"
   ]
  },
  {
   "cell_type": "markdown",
   "metadata": {},
   "source": [
    "This **optimisation problem** can be summarized as follows\n",
    "\n",
    "- We need to find a vector of parameters $\\hat{\\theta} = \\begin{bmatrix}\n",
    "     \\theta_{intercept} \\\\\n",
    "     \\theta_{surface}\\\\\n",
    "    \\theta_{bedrooms} \\\\\n",
    "     \\theta_{floors}\n",
    "\\end{bmatrix}_{4 \\times 1}$ \n",
    "\n",
    "- That minimizes an error $e = \\left\\|X\\hat{\\theta} - Y \\right\\|^2$\n",
    "\n",
    "- For a given matrix of features $X$ [constant, surfaces, floors, bedrooms]  $\\begin{bmatrix}\n",
    "    1 & 620 & 1 & 1 \\\\\n",
    "    1 & 3280 & 4 & 2 \\\\\n",
    "    ... \\\\\n",
    "    1 & 1900 & 2 & 2 \\\\\n",
    "    1 & 1320 & 3 & 3\n",
    "   \\end{bmatrix}_{n \\times 4}\n",
    "$\n",
    "\n",
    "- and a vector of observations $Y = \\begin{bmatrix}\n",
    "           y_{1} \\\\\n",
    "           y_{2} \\\\\n",
    "           \\vdots \\\\\n",
    "           y_{1000}\n",
    "         \\end{bmatrix}$ (prices)\n",
    "\n",
    "Such minimum $\\large \\hat{\\theta}$ is reached when the \"derivatives\" of $e$, that is $ \\large 2 X^T(X\\hat{\\theta}−Y)$ equals zero (👉proof during the Decision Module). \n",
    "    \n",
    "In other words, we need to solve the linear system $\\large (X^T X)\\hat{\\theta}=X^TY$. \n",
    "    \n",
    "This linear has a unique solution provided that no column of X can be expressed as a linear combination of the others: in that case $ \\large (X^TX)^{-1}$ is invertible and the minimum is reached when $\\large \\hat{\\theta} = (X^TX)^{-1} X^T Y$. Notice how X does not need to be squared anymore compared to the first challenge 💪.\n",
    "\n",
    "💥 However, keep in mind that ***inverting matrices is computationally complex***. That is why other methods have been developed to find the minimum of a function, such as ***gradient descent***.\n",
    "    \n",
    "📚 Read more on [Stats.StackExchange](https://stats.stackexchange.com/a/278779) if you are interested!\n",
    "</details>\n"
   ]
  },
  {
   "cell_type": "markdown",
   "metadata": {},
   "source": [
    "🏁 Congratulations! \n",
    "\n",
    "💾 Don't forget to `git add/commit/push` your notebook!"
   ]
  }
 ],
 "metadata": {
  "kernelspec": {
   "display_name": "Python 3 (ipykernel)",
   "language": "python",
   "name": "python3"
  },
  "language_info": {
   "codemirror_mode": {
    "name": "ipython",
    "version": 3
   },
   "file_extension": ".py",
   "mimetype": "text/x-python",
   "name": "python",
   "nbconvert_exporter": "python",
   "pygments_lexer": "ipython3",
   "version": "3.8.12"
  },
  "toc": {
   "base_numbering": 1,
   "nav_menu": {},
   "number_sections": true,
   "sideBar": true,
   "skip_h1_title": false,
   "title_cell": "Table of Contents",
   "title_sidebar": "Contents",
   "toc_cell": false,
   "toc_position": {},
   "toc_section_display": true,
   "toc_window_display": false
  }
 },
 "nbformat": 4,
 "nbformat_minor": 4
}
